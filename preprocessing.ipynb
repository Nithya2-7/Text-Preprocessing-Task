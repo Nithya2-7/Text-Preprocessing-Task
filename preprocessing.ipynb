{
  "nbformat": 4,
  "nbformat_minor": 0,
  "metadata": {
    "colab": {
      "provenance": [],
      "toc_visible": true
    },
    "kernelspec": {
      "name": "python3",
      "display_name": "Python 3"
    },
    "language_info": {
      "name": "python"
    }
  },
  "cells": [
    {
      "cell_type": "code",
      "source": [
        "import re\n",
        "import json\n",
        "\n",
        "def preprocess_text(text):\n",
        "\n",
        "    text = text.lower()\n",
        "\n",
        "    text = re.sub(r'[^a-z\\s]', '', text)\n",
        "\n",
        "    tokens = text.split()\n",
        "\n",
        "    return tokens\n",
        "\n",
        "sample_text = \"Hello there! This is an Example Program by @ Sahithya😄\"\n",
        "\n",
        "processed_tokens = preprocess_text(sample_text)\n",
        "\n",
        "print(\"Processed Tokens:\", processed_tokens)\n",
        "\n",
        "with open(\"output_sample.json\", \"w\") as f:\n",
        "    json.dump({\"input\": sample_text, \"tokens\": processed_tokens}, f, indent=4)"
      ],
      "metadata": {
        "id": "jqbODBponqcl"
      },
      "execution_count": 26,
      "outputs": []
    }
  ]
}